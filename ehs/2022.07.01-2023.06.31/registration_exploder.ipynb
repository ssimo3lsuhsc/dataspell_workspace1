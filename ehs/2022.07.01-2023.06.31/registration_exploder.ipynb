{
 "cells": [
  {
   "cell_type": "code",
   "execution_count": 8,
   "metadata": {
    "collapsed": true
   },
   "outputs": [],
   "source": []
  },
  {
   "cell_type": "code",
   "execution_count": 9,
   "outputs": [
    {
     "data": {
      "text/plain": "{'responseCode': 200,\n 'message': 'success',\n 'content': [{'id': '230656486866067',\n   'username': 'ssimo3',\n   'title': 'Early Head Start Disability 101 Registration',\n   'height': '539',\n   'status': 'ENABLED',\n   'created_at': '2023-03-07 16:02:19',\n   'updated_at': '2023-03-07 17:23:55',\n   'last_submission': None,\n   'new': '0',\n   'count': '0',\n   'type': 'LEGACY',\n   'favorite': '0',\n   'archived': '0',\n   'url': 'https://form.jotform.com/230656486866067'},\n  {'id': '230656069035052',\n   'username': 'ssimo3',\n   'title': 'Early Head Start New Disability 101 Training Addition Request',\n   'height': '539',\n   'status': 'ENABLED',\n   'created_at': '2023-03-07 15:25:53',\n   'updated_at': '2023-03-10 13:52:27',\n   'last_submission': '2023-03-07 16:22:32',\n   'new': '0',\n   'count': '2',\n   'type': 'LEGACY',\n   'favorite': '0',\n   'archived': '0',\n   'url': 'https://form.jotform.com/230656069035052'},\n  {'id': '230403968187159',\n   'username': 'ssimo3',\n   'title': 'Clone of EHS Registration for Professional Development 2022 (Morning)',\n   'height': '539',\n   'status': 'ENABLED',\n   'created_at': '2023-02-10 10:11:53',\n   'updated_at': '2023-02-13 13:39:03',\n   'last_submission': None,\n   'new': '0',\n   'count': '0',\n   'type': 'LEGACY',\n   'favorite': '0',\n   'archived': '0',\n   'url': 'https://form.jotform.com/230403968187159'},\n  {'id': '230385995540060',\n   'username': 'ssimo3',\n   'title': 'Accessibility Request Form',\n   'height': '539',\n   'status': 'ENABLED',\n   'created_at': '2023-02-08 16:00:46',\n   'updated_at': '2023-02-09 14:18:33',\n   'last_submission': '2023-02-09 13:52:47',\n   'new': '1',\n   'count': '1',\n   'type': 'LEGACY',\n   'favorite': '0',\n   'archived': '0',\n   'url': 'https://form.jotform.com/230385995540060'},\n  {'id': '230383686095161',\n   'username': 'ssimo3',\n   'title': 'LEND Interest Form',\n   'height': '539',\n   'status': 'ENABLED',\n   'created_at': '2023-02-08 08:35:04',\n   'updated_at': '2023-02-09 14:34:35',\n   'last_submission': '2023-03-07 17:54:11',\n   'new': '66',\n   'count': '67',\n   'type': 'LEGACY',\n   'favorite': '0',\n   'archived': '0',\n   'url': 'https://form.jotform.com/230383686095161'},\n  {'id': '230326529414048',\n   'username': 'ssimo3',\n   'title': 'Early Head Start Professional Development Registration TU2 2023-02-15',\n   'height': '539',\n   'status': 'ENABLED',\n   'created_at': '2023-02-02 17:19:11',\n   'updated_at': '2023-03-07 12:39:23',\n   'last_submission': '2023-02-15 12:05:38',\n   'new': '17',\n   'count': '29',\n   'type': 'LEGACY',\n   'favorite': '0',\n   'archived': '0',\n   'url': 'https://form.jotform.com/230326529414048'},\n  {'id': '223255189221049',\n   'username': 'ssimo3',\n   'title': 'Form',\n   'height': '539',\n   'status': 'DISABLED',\n   'created_at': '2022-11-22 13:04:21',\n   'updated_at': '2022-11-22 13:04:21',\n   'last_submission': None,\n   'new': '0',\n   'count': '0',\n   'type': 'LEGACY',\n   'favorite': '0',\n   'archived': '1',\n   'url': 'https://form.jotform.com/223255189221049'},\n  {'id': '223255053961050',\n   'username': 'ssimo3',\n   'title': 'Form',\n   'height': '539',\n   'status': 'DISABLED',\n   'created_at': '2022-11-22 13:02:52',\n   'updated_at': '2022-11-22 13:04:13',\n   'last_submission': None,\n   'new': '0',\n   'count': '0',\n   'type': 'LEGACY',\n   'favorite': '0',\n   'archived': '1',\n   'url': 'https://form.jotform.com/223255053961050'},\n  {'id': '223243602868053',\n   'username': 'ssimo3',\n   'title': 'Training Certificate Request',\n   'height': '539',\n   'status': 'ENABLED',\n   'created_at': '2022-11-21 09:57:59',\n   'updated_at': '2022-11-22 13:02:38',\n   'last_submission': '2022-11-21 11:43:16',\n   'new': '1',\n   'count': '1',\n   'type': 'LEGACY',\n   'favorite': '0',\n   'archived': '0',\n   'url': 'https://form.jotform.com/223243602868053'},\n  {'id': '222924870575060',\n   'username': 'ssimo3',\n   'title': 'HDC Contact Form',\n   'height': '539',\n   'status': 'ENABLED',\n   'created_at': '2022-10-20 10:47:59',\n   'updated_at': '2022-11-30 10:14:11',\n   'last_submission': '2023-02-01 11:19:15',\n   'new': '4',\n   'count': '4',\n   'type': 'LEGACY',\n   'favorite': '0',\n   'archived': '0',\n   'url': 'https://form.jotform.com/222924870575060'},\n  {'id': '222754656969070',\n   'username': 'ssimo3',\n   'title': 'HDC Supported Employment 40-Hour Certificate Retrieval Form',\n   'height': '539',\n   'status': 'ENABLED',\n   'created_at': '2022-10-03 12:33:38',\n   'updated_at': '2022-10-04 10:32:35',\n   'last_submission': '2022-10-03 17:00:22',\n   'new': '3',\n   'count': '3',\n   'type': 'LEGACY',\n   'favorite': '0',\n   'archived': '0',\n   'url': 'https://form.jotform.com/222754656969070'},\n  {'id': '222646146652053',\n   'username': 'ssimo3',\n   'title': 'Human Development Center Constituent Advisory Committee Interest Form',\n   'height': '539',\n   'status': 'ENABLED',\n   'created_at': '2022-09-22 14:36:28',\n   'updated_at': '2022-09-23 10:06:55',\n   'last_submission': '2022-12-15 13:46:28',\n   'new': '1',\n   'count': '1',\n   'type': 'LEGACY',\n   'favorite': '0',\n   'archived': '0',\n   'url': 'https://form.jotform.com/222646146652053'},\n  {'id': '222564907673161',\n   'username': 'ssimo3',\n   'title': 'Staff Follow-up to Partner Education/Disability Concern Referral to LSU',\n   'height': '539',\n   'status': 'ENABLED',\n   'created_at': '2022-09-14 12:07:48',\n   'updated_at': '2022-09-14 16:52:11',\n   'last_submission': '2022-10-20 10:44:51',\n   'new': '2',\n   'count': '2',\n   'type': 'LEGACY',\n   'favorite': '0',\n   'archived': '0',\n   'url': 'https://form.jotform.com/222564907673161'},\n  {'id': '222556247407154',\n   'username': 'ssimo3',\n   'title': 'EHS Registration for Professional Development 2022 (Afternoon)',\n   'height': '539',\n   'status': 'ENABLED',\n   'created_at': '2022-09-13 16:46:21',\n   'updated_at': '2023-03-02 16:58:16',\n   'last_submission': '2023-02-17 16:22:03',\n   'new': '61',\n   'count': '76',\n   'type': 'LEGACY',\n   'favorite': '0',\n   'archived': '0',\n   'url': 'https://form.jotform.com/222556247407154'},\n  {'id': '222556370237051',\n   'username': 'ssimo3',\n   'title': 'EHS Registration for Professional Development 2022 (Morning)',\n   'height': '539',\n   'status': 'ENABLED',\n   'created_at': '2022-09-13 15:24:03',\n   'updated_at': '2023-02-17 15:52:48',\n   'last_submission': '2023-02-15 08:43:45',\n   'new': '100',\n   'count': '126',\n   'type': 'LEGACY',\n   'favorite': '0',\n   'archived': '0',\n   'url': 'https://form.jotform.com/222556370237051'},\n  {'id': '222346240893052',\n   'username': 'ssimo3',\n   'title': 'HDC Stakeholder Input ',\n   'height': '539',\n   'status': 'ENABLED',\n   'created_at': '2022-08-23 16:40:57',\n   'updated_at': '2022-09-21 12:29:48',\n   'last_submission': '2022-10-17 21:56:35',\n   'new': '25',\n   'count': '25',\n   'type': 'LEGACY',\n   'favorite': '0',\n   'archived': '0',\n   'url': 'https://form.jotform.com/222346240893052'},\n  {'id': '222346250223040',\n   'username': 'ssimo3',\n   'title': 'Partner Education/Disability Concern Referral to LSU',\n   'height': '539',\n   'status': 'ENABLED',\n   'created_at': '2022-08-23 15:05:40',\n   'updated_at': '2022-12-02 15:17:58',\n   'last_submission': '2022-09-14 14:35:08',\n   'new': '0',\n   'count': '1',\n   'type': 'LEGACY',\n   'favorite': '0',\n   'archived': '0',\n   'url': 'https://form.jotform.com/222346250223040'},\n  {'id': '222124945788162',\n   'username': 'ssimo3',\n   'title': 'Early Head Start New Hire Form (Federal City Trial)',\n   'height': '539',\n   'status': 'ENABLED',\n   'created_at': '2022-08-01 12:53:52',\n   'updated_at': '2022-08-03 15:18:00',\n   'last_submission': None,\n   'new': '0',\n   'count': '0',\n   'type': 'LEGACY',\n   'favorite': '0',\n   'archived': '0',\n   'url': 'https://form.jotform.com/222124945788162'},\n  {'id': '222025249327047',\n   'username': 'ssimo3',\n   'title': 'Professional Development Certificate Retrieval from Louisiana Pathways',\n   'height': '539',\n   'status': 'ENABLED',\n   'created_at': '2022-07-22 14:30:24',\n   'updated_at': '2022-10-28 09:23:21',\n   'last_submission': '2023-03-04 01:10:33',\n   'new': '164',\n   'count': '169',\n   'type': 'LEGACY',\n   'favorite': '0',\n   'archived': '0',\n   'url': 'https://form.jotform.com/222025249327047'},\n  {'id': '222006513260036',\n   'username': 'ssimo3',\n   'title': 'Request for HDC Representation at Convention',\n   'height': '539',\n   'status': 'ENABLED',\n   'created_at': '2022-07-20 16:52:25',\n   'updated_at': '2022-08-19 12:21:00',\n   'last_submission': '2022-10-05 16:30:40',\n   'new': '5',\n   'count': '5',\n   'type': 'LEGACY',\n   'favorite': '0',\n   'archived': '0',\n   'url': 'https://form.jotform.com/222006513260036'}],\n 'duration': '97.50ms',\n 'resultSet': {'offset': 0, 'limit': 20, 'count': 20},\n 'limit-left': 49806}"
     },
     "execution_count": 9,
     "metadata": {},
     "output_type": "execute_result"
    }
   ],
   "source": [
    "import pandas\n",
    "import numpy\n",
    "import requests\n",
    "import json\n",
    "\n",
    "headers = {\n",
    "    \"APIKEY\": \"ab612859cb740357ec912f07c79e2fe9\"\n",
    "}\n",
    "response = requests.get(\"https://api.jotform.com/user/forms\", headers=headers)\n",
    "response.json()\n"
   ],
   "metadata": {
    "collapsed": false
   }
  },
  {
   "cell_type": "markdown",
   "source": [],
   "metadata": {
    "collapsed": false
   }
  },
  {
   "cell_type": "code",
   "execution_count": 10,
   "outputs": [
    {
     "data": {
      "text/plain": "                 id username  \\\n0   230656486866067   ssimo3   \n1   230656069035052   ssimo3   \n2   230403968187159   ssimo3   \n3   230385995540060   ssimo3   \n4   230383686095161   ssimo3   \n5   230326529414048   ssimo3   \n6   223255189221049   ssimo3   \n7   223255053961050   ssimo3   \n8   223243602868053   ssimo3   \n9   222924870575060   ssimo3   \n10  222754656969070   ssimo3   \n11  222646146652053   ssimo3   \n12  222564907673161   ssimo3   \n13  222556247407154   ssimo3   \n14  222556370237051   ssimo3   \n15  222346240893052   ssimo3   \n16  222346250223040   ssimo3   \n17  222124945788162   ssimo3   \n18  222025249327047   ssimo3   \n19  222006513260036   ssimo3   \n\n                                                title height    status  \\\n0        Early Head Start Disability 101 Registration    539   ENABLED   \n1   Early Head Start New Disability 101 Training A...    539   ENABLED   \n2   Clone of EHS Registration for Professional Dev...    539   ENABLED   \n3                          Accessibility Request Form    539   ENABLED   \n4                                  LEND Interest Form    539   ENABLED   \n5   Early Head Start Professional Development Regi...    539   ENABLED   \n6                                                Form    539  DISABLED   \n7                                                Form    539  DISABLED   \n8                        Training Certificate Request    539   ENABLED   \n9                                    HDC Contact Form    539   ENABLED   \n10  HDC Supported Employment 40-Hour Certificate R...    539   ENABLED   \n11  Human Development Center Constituent Advisory ...    539   ENABLED   \n12  Staff Follow-up to Partner Education/Disabilit...    539   ENABLED   \n13  EHS Registration for Professional Development ...    539   ENABLED   \n14  EHS Registration for Professional Development ...    539   ENABLED   \n15                             HDC Stakeholder Input     539   ENABLED   \n16  Partner Education/Disability Concern Referral ...    539   ENABLED   \n17  Early Head Start New Hire Form (Federal City T...    539   ENABLED   \n18  Professional Development Certificate Retrieval...    539   ENABLED   \n19       Request for HDC Representation at Convention    539   ENABLED   \n\n             created_at           updated_at      last_submission  new count  \\\n0   2023-03-07 16:02:19  2023-03-07 17:23:55                 None    0     0   \n1   2023-03-07 15:25:53  2023-03-10 13:52:27  2023-03-07 16:22:32    0     2   \n2   2023-02-10 10:11:53  2023-02-13 13:39:03                 None    0     0   \n3   2023-02-08 16:00:46  2023-02-09 14:18:33  2023-02-09 13:52:47    1     1   \n4   2023-02-08 08:35:04  2023-02-09 14:34:35  2023-03-07 17:54:11   66    67   \n5   2023-02-02 17:19:11  2023-03-07 12:39:23  2023-02-15 12:05:38   17    29   \n6   2022-11-22 13:04:21  2022-11-22 13:04:21                 None    0     0   \n7   2022-11-22 13:02:52  2022-11-22 13:04:13                 None    0     0   \n8   2022-11-21 09:57:59  2022-11-22 13:02:38  2022-11-21 11:43:16    1     1   \n9   2022-10-20 10:47:59  2022-11-30 10:14:11  2023-02-01 11:19:15    4     4   \n10  2022-10-03 12:33:38  2022-10-04 10:32:35  2022-10-03 17:00:22    3     3   \n11  2022-09-22 14:36:28  2022-09-23 10:06:55  2022-12-15 13:46:28    1     1   \n12  2022-09-14 12:07:48  2022-09-14 16:52:11  2022-10-20 10:44:51    2     2   \n13  2022-09-13 16:46:21  2023-03-02 16:58:16  2023-02-17 16:22:03   61    76   \n14  2022-09-13 15:24:03  2023-02-17 15:52:48  2023-02-15 08:43:45  100   126   \n15  2022-08-23 16:40:57  2022-09-21 12:29:48  2022-10-17 21:56:35   25    25   \n16  2022-08-23 15:05:40  2022-12-02 15:17:58  2022-09-14 14:35:08    0     1   \n17  2022-08-01 12:53:52  2022-08-03 15:18:00                 None    0     0   \n18  2022-07-22 14:30:24  2022-10-28 09:23:21  2023-03-04 01:10:33  164   169   \n19  2022-07-20 16:52:25  2022-08-19 12:21:00  2022-10-05 16:30:40    5     5   \n\n      type favorite archived                                       url  \n0   LEGACY        0        0  https://form.jotform.com/230656486866067  \n1   LEGACY        0        0  https://form.jotform.com/230656069035052  \n2   LEGACY        0        0  https://form.jotform.com/230403968187159  \n3   LEGACY        0        0  https://form.jotform.com/230385995540060  \n4   LEGACY        0        0  https://form.jotform.com/230383686095161  \n5   LEGACY        0        0  https://form.jotform.com/230326529414048  \n6   LEGACY        0        1  https://form.jotform.com/223255189221049  \n7   LEGACY        0        1  https://form.jotform.com/223255053961050  \n8   LEGACY        0        0  https://form.jotform.com/223243602868053  \n9   LEGACY        0        0  https://form.jotform.com/222924870575060  \n10  LEGACY        0        0  https://form.jotform.com/222754656969070  \n11  LEGACY        0        0  https://form.jotform.com/222646146652053  \n12  LEGACY        0        0  https://form.jotform.com/222564907673161  \n13  LEGACY        0        0  https://form.jotform.com/222556247407154  \n14  LEGACY        0        0  https://form.jotform.com/222556370237051  \n15  LEGACY        0        0  https://form.jotform.com/222346240893052  \n16  LEGACY        0        0  https://form.jotform.com/222346250223040  \n17  LEGACY        0        0  https://form.jotform.com/222124945788162  \n18  LEGACY        0        0  https://form.jotform.com/222025249327047  \n19  LEGACY        0        0  https://form.jotform.com/222006513260036  ",
      "text/html": "<div>\n<style scoped>\n    .dataframe tbody tr th:only-of-type {\n        vertical-align: middle;\n    }\n\n    .dataframe tbody tr th {\n        vertical-align: top;\n    }\n\n    .dataframe thead th {\n        text-align: right;\n    }\n</style>\n<table border=\"1\" class=\"dataframe\">\n  <thead>\n    <tr style=\"text-align: right;\">\n      <th></th>\n      <th>id</th>\n      <th>username</th>\n      <th>title</th>\n      <th>height</th>\n      <th>status</th>\n      <th>created_at</th>\n      <th>updated_at</th>\n      <th>last_submission</th>\n      <th>new</th>\n      <th>count</th>\n      <th>type</th>\n      <th>favorite</th>\n      <th>archived</th>\n      <th>url</th>\n    </tr>\n  </thead>\n  <tbody>\n    <tr>\n      <th>0</th>\n      <td>230656486866067</td>\n      <td>ssimo3</td>\n      <td>Early Head Start Disability 101 Registration</td>\n      <td>539</td>\n      <td>ENABLED</td>\n      <td>2023-03-07 16:02:19</td>\n      <td>2023-03-07 17:23:55</td>\n      <td>None</td>\n      <td>0</td>\n      <td>0</td>\n      <td>LEGACY</td>\n      <td>0</td>\n      <td>0</td>\n      <td>https://form.jotform.com/230656486866067</td>\n    </tr>\n    <tr>\n      <th>1</th>\n      <td>230656069035052</td>\n      <td>ssimo3</td>\n      <td>Early Head Start New Disability 101 Training A...</td>\n      <td>539</td>\n      <td>ENABLED</td>\n      <td>2023-03-07 15:25:53</td>\n      <td>2023-03-10 13:52:27</td>\n      <td>2023-03-07 16:22:32</td>\n      <td>0</td>\n      <td>2</td>\n      <td>LEGACY</td>\n      <td>0</td>\n      <td>0</td>\n      <td>https://form.jotform.com/230656069035052</td>\n    </tr>\n    <tr>\n      <th>2</th>\n      <td>230403968187159</td>\n      <td>ssimo3</td>\n      <td>Clone of EHS Registration for Professional Dev...</td>\n      <td>539</td>\n      <td>ENABLED</td>\n      <td>2023-02-10 10:11:53</td>\n      <td>2023-02-13 13:39:03</td>\n      <td>None</td>\n      <td>0</td>\n      <td>0</td>\n      <td>LEGACY</td>\n      <td>0</td>\n      <td>0</td>\n      <td>https://form.jotform.com/230403968187159</td>\n    </tr>\n    <tr>\n      <th>3</th>\n      <td>230385995540060</td>\n      <td>ssimo3</td>\n      <td>Accessibility Request Form</td>\n      <td>539</td>\n      <td>ENABLED</td>\n      <td>2023-02-08 16:00:46</td>\n      <td>2023-02-09 14:18:33</td>\n      <td>2023-02-09 13:52:47</td>\n      <td>1</td>\n      <td>1</td>\n      <td>LEGACY</td>\n      <td>0</td>\n      <td>0</td>\n      <td>https://form.jotform.com/230385995540060</td>\n    </tr>\n    <tr>\n      <th>4</th>\n      <td>230383686095161</td>\n      <td>ssimo3</td>\n      <td>LEND Interest Form</td>\n      <td>539</td>\n      <td>ENABLED</td>\n      <td>2023-02-08 08:35:04</td>\n      <td>2023-02-09 14:34:35</td>\n      <td>2023-03-07 17:54:11</td>\n      <td>66</td>\n      <td>67</td>\n      <td>LEGACY</td>\n      <td>0</td>\n      <td>0</td>\n      <td>https://form.jotform.com/230383686095161</td>\n    </tr>\n    <tr>\n      <th>5</th>\n      <td>230326529414048</td>\n      <td>ssimo3</td>\n      <td>Early Head Start Professional Development Regi...</td>\n      <td>539</td>\n      <td>ENABLED</td>\n      <td>2023-02-02 17:19:11</td>\n      <td>2023-03-07 12:39:23</td>\n      <td>2023-02-15 12:05:38</td>\n      <td>17</td>\n      <td>29</td>\n      <td>LEGACY</td>\n      <td>0</td>\n      <td>0</td>\n      <td>https://form.jotform.com/230326529414048</td>\n    </tr>\n    <tr>\n      <th>6</th>\n      <td>223255189221049</td>\n      <td>ssimo3</td>\n      <td>Form</td>\n      <td>539</td>\n      <td>DISABLED</td>\n      <td>2022-11-22 13:04:21</td>\n      <td>2022-11-22 13:04:21</td>\n      <td>None</td>\n      <td>0</td>\n      <td>0</td>\n      <td>LEGACY</td>\n      <td>0</td>\n      <td>1</td>\n      <td>https://form.jotform.com/223255189221049</td>\n    </tr>\n    <tr>\n      <th>7</th>\n      <td>223255053961050</td>\n      <td>ssimo3</td>\n      <td>Form</td>\n      <td>539</td>\n      <td>DISABLED</td>\n      <td>2022-11-22 13:02:52</td>\n      <td>2022-11-22 13:04:13</td>\n      <td>None</td>\n      <td>0</td>\n      <td>0</td>\n      <td>LEGACY</td>\n      <td>0</td>\n      <td>1</td>\n      <td>https://form.jotform.com/223255053961050</td>\n    </tr>\n    <tr>\n      <th>8</th>\n      <td>223243602868053</td>\n      <td>ssimo3</td>\n      <td>Training Certificate Request</td>\n      <td>539</td>\n      <td>ENABLED</td>\n      <td>2022-11-21 09:57:59</td>\n      <td>2022-11-22 13:02:38</td>\n      <td>2022-11-21 11:43:16</td>\n      <td>1</td>\n      <td>1</td>\n      <td>LEGACY</td>\n      <td>0</td>\n      <td>0</td>\n      <td>https://form.jotform.com/223243602868053</td>\n    </tr>\n    <tr>\n      <th>9</th>\n      <td>222924870575060</td>\n      <td>ssimo3</td>\n      <td>HDC Contact Form</td>\n      <td>539</td>\n      <td>ENABLED</td>\n      <td>2022-10-20 10:47:59</td>\n      <td>2022-11-30 10:14:11</td>\n      <td>2023-02-01 11:19:15</td>\n      <td>4</td>\n      <td>4</td>\n      <td>LEGACY</td>\n      <td>0</td>\n      <td>0</td>\n      <td>https://form.jotform.com/222924870575060</td>\n    </tr>\n    <tr>\n      <th>10</th>\n      <td>222754656969070</td>\n      <td>ssimo3</td>\n      <td>HDC Supported Employment 40-Hour Certificate R...</td>\n      <td>539</td>\n      <td>ENABLED</td>\n      <td>2022-10-03 12:33:38</td>\n      <td>2022-10-04 10:32:35</td>\n      <td>2022-10-03 17:00:22</td>\n      <td>3</td>\n      <td>3</td>\n      <td>LEGACY</td>\n      <td>0</td>\n      <td>0</td>\n      <td>https://form.jotform.com/222754656969070</td>\n    </tr>\n    <tr>\n      <th>11</th>\n      <td>222646146652053</td>\n      <td>ssimo3</td>\n      <td>Human Development Center Constituent Advisory ...</td>\n      <td>539</td>\n      <td>ENABLED</td>\n      <td>2022-09-22 14:36:28</td>\n      <td>2022-09-23 10:06:55</td>\n      <td>2022-12-15 13:46:28</td>\n      <td>1</td>\n      <td>1</td>\n      <td>LEGACY</td>\n      <td>0</td>\n      <td>0</td>\n      <td>https://form.jotform.com/222646146652053</td>\n    </tr>\n    <tr>\n      <th>12</th>\n      <td>222564907673161</td>\n      <td>ssimo3</td>\n      <td>Staff Follow-up to Partner Education/Disabilit...</td>\n      <td>539</td>\n      <td>ENABLED</td>\n      <td>2022-09-14 12:07:48</td>\n      <td>2022-09-14 16:52:11</td>\n      <td>2022-10-20 10:44:51</td>\n      <td>2</td>\n      <td>2</td>\n      <td>LEGACY</td>\n      <td>0</td>\n      <td>0</td>\n      <td>https://form.jotform.com/222564907673161</td>\n    </tr>\n    <tr>\n      <th>13</th>\n      <td>222556247407154</td>\n      <td>ssimo3</td>\n      <td>EHS Registration for Professional Development ...</td>\n      <td>539</td>\n      <td>ENABLED</td>\n      <td>2022-09-13 16:46:21</td>\n      <td>2023-03-02 16:58:16</td>\n      <td>2023-02-17 16:22:03</td>\n      <td>61</td>\n      <td>76</td>\n      <td>LEGACY</td>\n      <td>0</td>\n      <td>0</td>\n      <td>https://form.jotform.com/222556247407154</td>\n    </tr>\n    <tr>\n      <th>14</th>\n      <td>222556370237051</td>\n      <td>ssimo3</td>\n      <td>EHS Registration for Professional Development ...</td>\n      <td>539</td>\n      <td>ENABLED</td>\n      <td>2022-09-13 15:24:03</td>\n      <td>2023-02-17 15:52:48</td>\n      <td>2023-02-15 08:43:45</td>\n      <td>100</td>\n      <td>126</td>\n      <td>LEGACY</td>\n      <td>0</td>\n      <td>0</td>\n      <td>https://form.jotform.com/222556370237051</td>\n    </tr>\n    <tr>\n      <th>15</th>\n      <td>222346240893052</td>\n      <td>ssimo3</td>\n      <td>HDC Stakeholder Input</td>\n      <td>539</td>\n      <td>ENABLED</td>\n      <td>2022-08-23 16:40:57</td>\n      <td>2022-09-21 12:29:48</td>\n      <td>2022-10-17 21:56:35</td>\n      <td>25</td>\n      <td>25</td>\n      <td>LEGACY</td>\n      <td>0</td>\n      <td>0</td>\n      <td>https://form.jotform.com/222346240893052</td>\n    </tr>\n    <tr>\n      <th>16</th>\n      <td>222346250223040</td>\n      <td>ssimo3</td>\n      <td>Partner Education/Disability Concern Referral ...</td>\n      <td>539</td>\n      <td>ENABLED</td>\n      <td>2022-08-23 15:05:40</td>\n      <td>2022-12-02 15:17:58</td>\n      <td>2022-09-14 14:35:08</td>\n      <td>0</td>\n      <td>1</td>\n      <td>LEGACY</td>\n      <td>0</td>\n      <td>0</td>\n      <td>https://form.jotform.com/222346250223040</td>\n    </tr>\n    <tr>\n      <th>17</th>\n      <td>222124945788162</td>\n      <td>ssimo3</td>\n      <td>Early Head Start New Hire Form (Federal City T...</td>\n      <td>539</td>\n      <td>ENABLED</td>\n      <td>2022-08-01 12:53:52</td>\n      <td>2022-08-03 15:18:00</td>\n      <td>None</td>\n      <td>0</td>\n      <td>0</td>\n      <td>LEGACY</td>\n      <td>0</td>\n      <td>0</td>\n      <td>https://form.jotform.com/222124945788162</td>\n    </tr>\n    <tr>\n      <th>18</th>\n      <td>222025249327047</td>\n      <td>ssimo3</td>\n      <td>Professional Development Certificate Retrieval...</td>\n      <td>539</td>\n      <td>ENABLED</td>\n      <td>2022-07-22 14:30:24</td>\n      <td>2022-10-28 09:23:21</td>\n      <td>2023-03-04 01:10:33</td>\n      <td>164</td>\n      <td>169</td>\n      <td>LEGACY</td>\n      <td>0</td>\n      <td>0</td>\n      <td>https://form.jotform.com/222025249327047</td>\n    </tr>\n    <tr>\n      <th>19</th>\n      <td>222006513260036</td>\n      <td>ssimo3</td>\n      <td>Request for HDC Representation at Convention</td>\n      <td>539</td>\n      <td>ENABLED</td>\n      <td>2022-07-20 16:52:25</td>\n      <td>2022-08-19 12:21:00</td>\n      <td>2022-10-05 16:30:40</td>\n      <td>5</td>\n      <td>5</td>\n      <td>LEGACY</td>\n      <td>0</td>\n      <td>0</td>\n      <td>https://form.jotform.com/222006513260036</td>\n    </tr>\n  </tbody>\n</table>\n</div>"
     },
     "execution_count": 10,
     "metadata": {},
     "output_type": "execute_result"
    }
   ],
   "source": [
    "forms = pandas.DataFrame(response.json()[\"content\"])\n",
    "forms"
   ],
   "metadata": {
    "collapsed": false
   }
  },
  {
   "cell_type": "code",
   "execution_count": 11,
   "outputs": [
    {
     "data": {
      "text/plain": "                 id username  \\\n13  222556247407154   ssimo3   \n14  222556370237051   ssimo3   \n\n                                                title height   status  \\\n13  EHS Registration for Professional Development ...    539  ENABLED   \n14  EHS Registration for Professional Development ...    539  ENABLED   \n\n             created_at           updated_at      last_submission  new count  \\\n13  2022-09-13 16:46:21  2023-03-02 16:58:16  2023-02-17 16:22:03   61    76   \n14  2022-09-13 15:24:03  2023-02-17 15:52:48  2023-02-15 08:43:45  100   126   \n\n      type favorite archived                                       url  \n13  LEGACY        0        0  https://form.jotform.com/222556247407154  \n14  LEGACY        0        0  https://form.jotform.com/222556370237051  ",
      "text/html": "<div>\n<style scoped>\n    .dataframe tbody tr th:only-of-type {\n        vertical-align: middle;\n    }\n\n    .dataframe tbody tr th {\n        vertical-align: top;\n    }\n\n    .dataframe thead th {\n        text-align: right;\n    }\n</style>\n<table border=\"1\" class=\"dataframe\">\n  <thead>\n    <tr style=\"text-align: right;\">\n      <th></th>\n      <th>id</th>\n      <th>username</th>\n      <th>title</th>\n      <th>height</th>\n      <th>status</th>\n      <th>created_at</th>\n      <th>updated_at</th>\n      <th>last_submission</th>\n      <th>new</th>\n      <th>count</th>\n      <th>type</th>\n      <th>favorite</th>\n      <th>archived</th>\n      <th>url</th>\n    </tr>\n  </thead>\n  <tbody>\n    <tr>\n      <th>13</th>\n      <td>222556247407154</td>\n      <td>ssimo3</td>\n      <td>EHS Registration for Professional Development ...</td>\n      <td>539</td>\n      <td>ENABLED</td>\n      <td>2022-09-13 16:46:21</td>\n      <td>2023-03-02 16:58:16</td>\n      <td>2023-02-17 16:22:03</td>\n      <td>61</td>\n      <td>76</td>\n      <td>LEGACY</td>\n      <td>0</td>\n      <td>0</td>\n      <td>https://form.jotform.com/222556247407154</td>\n    </tr>\n    <tr>\n      <th>14</th>\n      <td>222556370237051</td>\n      <td>ssimo3</td>\n      <td>EHS Registration for Professional Development ...</td>\n      <td>539</td>\n      <td>ENABLED</td>\n      <td>2022-09-13 15:24:03</td>\n      <td>2023-02-17 15:52:48</td>\n      <td>2023-02-15 08:43:45</td>\n      <td>100</td>\n      <td>126</td>\n      <td>LEGACY</td>\n      <td>0</td>\n      <td>0</td>\n      <td>https://form.jotform.com/222556370237051</td>\n    </tr>\n  </tbody>\n</table>\n</div>"
     },
     "execution_count": 11,
     "metadata": {},
     "output_type": "execute_result"
    }
   ],
   "source": [
    "forms = forms[lambda forms1: forms1[\"title\"].str.startswith(\"EHS Registration for Professional\")]\n",
    "forms"
   ],
   "metadata": {
    "collapsed": false
   }
  },
  {
   "cell_type": "code",
   "execution_count": 15,
   "outputs": [
    {
     "data": {
      "text/plain": "                      id          form_id              ip  \\\n0    5522778250513504316  222556370237051  172.59.104.150   \n1    5522249883124676563  222556370237051  172.59.105.213   \n2    5522237753245487747  222556370237051   172.59.104.23   \n3    5522221828112546939  222556370237051   98.185.32.118   \n4    5522212558117809714  222556370237051   98.185.32.118   \n..                   ...              ...             ...   \n121  5395885152476776123  222556370237051    172.56.27.42   \n122  5395864084776838594  222556370237051    172.56.27.74   \n123  5395862014816464548  222556370237051   172.56.26.184   \n124  5395782628115741987  222556370237051   98.185.32.118   \n125  5395781768111526966  222556370237051   98.185.32.118   \n\n              created_at  status new flag notes           updated_at  \\\n0    2023-02-15 08:43:45  ACTIVE   1    0        2023-02-17 15:52:49   \n1    2023-02-14 18:03:08  ACTIVE   1    0        2023-02-17 15:52:49   \n2    2023-02-14 17:42:55  ACTIVE   1    0        2023-02-17 15:52:49   \n3    2023-02-14 17:16:22  ACTIVE   1    0        2023-02-17 15:52:49   \n4    2023-02-14 17:00:55  ACTIVE   1    0        2023-02-17 15:52:49   \n..                   ...     ...  ..  ...   ...                  ...   \n121  2022-09-21 12:55:15  ACTIVE   0    0        2022-10-25 08:55:45   \n122  2022-09-21 12:20:08  ACTIVE   0    0        2022-10-25 08:55:45   \n123  2022-09-21 12:16:41  ACTIVE   0    0        2022-10-25 08:55:45   \n124  2022-09-21 10:04:22  ACTIVE   0    0        2022-10-25 08:55:45   \n125  2022-09-21 10:02:56  ACTIVE   0    0        2022-10-25 08:55:45   \n\n                                               answers  \n0    {'1': {'name': 'heading', 'order': '1', 'text'...  \n1    {'1': {'name': 'heading', 'order': '1', 'text'...  \n2    {'1': {'name': 'heading', 'order': '1', 'text'...  \n3    {'1': {'name': 'heading', 'order': '1', 'text'...  \n4    {'1': {'name': 'heading', 'order': '1', 'text'...  \n..                                                 ...  \n121  {'1': {'name': 'heading', 'order': '1', 'text'...  \n122  {'1': {'name': 'heading', 'order': '1', 'text'...  \n123  {'1': {'name': 'heading', 'order': '1', 'text'...  \n124  {'1': {'name': 'heading', 'order': '1', 'text'...  \n125  {'1': {'name': 'heading', 'order': '1', 'text'...  \n\n[126 rows x 10 columns]",
      "text/html": "<div>\n<style scoped>\n    .dataframe tbody tr th:only-of-type {\n        vertical-align: middle;\n    }\n\n    .dataframe tbody tr th {\n        vertical-align: top;\n    }\n\n    .dataframe thead th {\n        text-align: right;\n    }\n</style>\n<table border=\"1\" class=\"dataframe\">\n  <thead>\n    <tr style=\"text-align: right;\">\n      <th></th>\n      <th>id</th>\n      <th>form_id</th>\n      <th>ip</th>\n      <th>created_at</th>\n      <th>status</th>\n      <th>new</th>\n      <th>flag</th>\n      <th>notes</th>\n      <th>updated_at</th>\n      <th>answers</th>\n    </tr>\n  </thead>\n  <tbody>\n    <tr>\n      <th>0</th>\n      <td>5522778250513504316</td>\n      <td>222556370237051</td>\n      <td>172.59.104.150</td>\n      <td>2023-02-15 08:43:45</td>\n      <td>ACTIVE</td>\n      <td>1</td>\n      <td>0</td>\n      <td></td>\n      <td>2023-02-17 15:52:49</td>\n      <td>{'1': {'name': 'heading', 'order': '1', 'text'...</td>\n    </tr>\n    <tr>\n      <th>1</th>\n      <td>5522249883124676563</td>\n      <td>222556370237051</td>\n      <td>172.59.105.213</td>\n      <td>2023-02-14 18:03:08</td>\n      <td>ACTIVE</td>\n      <td>1</td>\n      <td>0</td>\n      <td></td>\n      <td>2023-02-17 15:52:49</td>\n      <td>{'1': {'name': 'heading', 'order': '1', 'text'...</td>\n    </tr>\n    <tr>\n      <th>2</th>\n      <td>5522237753245487747</td>\n      <td>222556370237051</td>\n      <td>172.59.104.23</td>\n      <td>2023-02-14 17:42:55</td>\n      <td>ACTIVE</td>\n      <td>1</td>\n      <td>0</td>\n      <td></td>\n      <td>2023-02-17 15:52:49</td>\n      <td>{'1': {'name': 'heading', 'order': '1', 'text'...</td>\n    </tr>\n    <tr>\n      <th>3</th>\n      <td>5522221828112546939</td>\n      <td>222556370237051</td>\n      <td>98.185.32.118</td>\n      <td>2023-02-14 17:16:22</td>\n      <td>ACTIVE</td>\n      <td>1</td>\n      <td>0</td>\n      <td></td>\n      <td>2023-02-17 15:52:49</td>\n      <td>{'1': {'name': 'heading', 'order': '1', 'text'...</td>\n    </tr>\n    <tr>\n      <th>4</th>\n      <td>5522212558117809714</td>\n      <td>222556370237051</td>\n      <td>98.185.32.118</td>\n      <td>2023-02-14 17:00:55</td>\n      <td>ACTIVE</td>\n      <td>1</td>\n      <td>0</td>\n      <td></td>\n      <td>2023-02-17 15:52:49</td>\n      <td>{'1': {'name': 'heading', 'order': '1', 'text'...</td>\n    </tr>\n    <tr>\n      <th>...</th>\n      <td>...</td>\n      <td>...</td>\n      <td>...</td>\n      <td>...</td>\n      <td>...</td>\n      <td>...</td>\n      <td>...</td>\n      <td>...</td>\n      <td>...</td>\n      <td>...</td>\n    </tr>\n    <tr>\n      <th>121</th>\n      <td>5395885152476776123</td>\n      <td>222556370237051</td>\n      <td>172.56.27.42</td>\n      <td>2022-09-21 12:55:15</td>\n      <td>ACTIVE</td>\n      <td>0</td>\n      <td>0</td>\n      <td></td>\n      <td>2022-10-25 08:55:45</td>\n      <td>{'1': {'name': 'heading', 'order': '1', 'text'...</td>\n    </tr>\n    <tr>\n      <th>122</th>\n      <td>5395864084776838594</td>\n      <td>222556370237051</td>\n      <td>172.56.27.74</td>\n      <td>2022-09-21 12:20:08</td>\n      <td>ACTIVE</td>\n      <td>0</td>\n      <td>0</td>\n      <td></td>\n      <td>2022-10-25 08:55:45</td>\n      <td>{'1': {'name': 'heading', 'order': '1', 'text'...</td>\n    </tr>\n    <tr>\n      <th>123</th>\n      <td>5395862014816464548</td>\n      <td>222556370237051</td>\n      <td>172.56.26.184</td>\n      <td>2022-09-21 12:16:41</td>\n      <td>ACTIVE</td>\n      <td>0</td>\n      <td>0</td>\n      <td></td>\n      <td>2022-10-25 08:55:45</td>\n      <td>{'1': {'name': 'heading', 'order': '1', 'text'...</td>\n    </tr>\n    <tr>\n      <th>124</th>\n      <td>5395782628115741987</td>\n      <td>222556370237051</td>\n      <td>98.185.32.118</td>\n      <td>2022-09-21 10:04:22</td>\n      <td>ACTIVE</td>\n      <td>0</td>\n      <td>0</td>\n      <td></td>\n      <td>2022-10-25 08:55:45</td>\n      <td>{'1': {'name': 'heading', 'order': '1', 'text'...</td>\n    </tr>\n    <tr>\n      <th>125</th>\n      <td>5395781768111526966</td>\n      <td>222556370237051</td>\n      <td>98.185.32.118</td>\n      <td>2022-09-21 10:02:56</td>\n      <td>ACTIVE</td>\n      <td>0</td>\n      <td>0</td>\n      <td></td>\n      <td>2022-10-25 08:55:45</td>\n      <td>{'1': {'name': 'heading', 'order': '1', 'text'...</td>\n    </tr>\n  </tbody>\n</table>\n<p>126 rows × 10 columns</p>\n</div>"
     },
     "execution_count": 15,
     "metadata": {},
     "output_type": "execute_result"
    }
   ],
   "source": [
    "import re\n",
    "def applyjson(value):\n",
    "    if type(value) != str:\n",
    "        return value\n",
    "    try:\n",
    "        return json.loads(value)\n",
    "    except json.JSONDecodeError:\n",
    "        return value\n",
    "\n",
    "def update_answer_row(row):\n",
    "    row[\"answers\"][\"submission_id\"] = row[\"id\"]\n",
    "    return row\n",
    "\n",
    "def serialize_answer(value: dict) -> dict:\n",
    "    if \"answer\" in value[\"info\"].keys():\n",
    "        value[\"info\"][\"answer\"] = json.dumps(value[\"info\"][\"answer\"])\n",
    "    return value\n",
    "\n",
    "def deserialize_answer(value):\n",
    "    if pandas.isna(value):\n",
    "        return value\n",
    "    return json.loads(value)\n",
    "\n",
    "def get_all_responses(id: str, offset: int = 0) -> list:\n",
    "    responses = requests.get(\"https://api.jotform.com/form/\" + id + \"/submissions\", headers=headers, params={\n",
    "        \"limit\": 100,\n",
    "        \"offset\": offset\n",
    "        }).json()[\"content\"]\n",
    "    if len(responses) == 0:\n",
    "        return responses\n",
    "    return responses + get_all_responses(id, offset + 100)\n",
    "\n",
    "def add_answer_key_to_value(row: pandas.Series) -> pandas.Series:\n",
    "    row[\"value\"][\"variable\"] = int(row[\"variable\"])\n",
    "    row[\"value\"][\"submission_id\"] = row[\"submission_id\"]\n",
    "    return row\n",
    "\n",
    "def add_answer_key_to_answer(row: pandas.Series) -> pandas.Series:\n",
    "    if \"answer\" not in row[\"value\"].keys():\n",
    "        row[\"value\"][\"answer\"] = None\n",
    "    if type(row[\"value\"][\"answer\"]) != dict:\n",
    "        row[\"value\"][\"answer\"] = {\n",
    "            \"prim_value\": row[\"value\"][\"answer\"]\n",
    "        }\n",
    "    row[\"value\"][\"answer\"][\"submission_id\"] = row[\"submission_id\"]\n",
    "    row[\"value\"][\"answer\"][\"variable\"] = row[\"variable\"]\n",
    "    row[\"value\"][\"answer\"][\"name\"] =  row[\"value\"][\"name\"]\n",
    "    if row[\"value\"][\"type\"] == \"control_payment\":\n",
    "        row[\"value\"][\"answer\"][\"prim_value\"] = json.loads(row[\"value\"][\"answer\"][\"paymentArray\"])[\"shortView\"][\"products\"][0][\"title\"]\n",
    "        keys_to_delete = [key for key in row[\"value\"][\"answer\"].keys() if re.match(r\"^\\d+$\", key) is not None] + [\"paymentArray\"]\n",
    "        for key in keys_to_delete:\n",
    "            del row[\"value\"][\"answer\"][key]\n",
    "    return pandas.Series(row[\"value\"][\"answer\"])\n",
    "\n",
    "\n",
    "form_responses_list = []\n",
    "for id in forms[\"id\"]:\n",
    "    form_responses_list += get_all_responses(id)\n",
    "\n",
    "form_responses = pandas.DataFrame(get_all_responses(id)).apply(update_answer_row, axis=\"columns\")\n",
    "answers = form_responses[\"answers\"].apply(pandas.Series).melt(id_vars=[\"submission_id\"]).apply(add_answer_key_to_value, axis=\"columns\")\n",
    "answer_values_list = []\n",
    "for index, answer_row in answers.iterrows():\n",
    "    if \"answer\" in answer_row[\"value\"].keys():\n",
    "        answer_out_row = {}\n",
    "        if type(answer_row[\"value\"][\"answer\"]) != dict:\n",
    "            answer_out_row[\"prim_value\"] = answer_row[\"value\"][\"answer\"]\n",
    "        else:\n",
    "            answer_out_row = answer_row[\"value\"][\"answer\"]\n",
    "            if answer_row[\"value\"][\"type\"] == \"control_payment\":\n",
    "                answer_out_row[\"prim_value\"] = json.loads(answer_row[\"value\"][\"answer\"][\"paymentArray\"])[\"shortView\"][\"products\"][0][\"title\"]\n",
    "            keys_to_delete = [key for key in answer_out_row.keys() if key == \"paymentArray\" or re.match(r\"^\\d+$\", key)]\n",
    "            for key in keys_to_delete:\n",
    "                del answer_out_row[key]\n",
    "        answer_out_row[\"name\"] = answer_row[\"value\"][\"name\"]\n",
    "        answer_out_row[\"variable\"] = answer_row[\"variable\"]\n",
    "        answer_out_row[\"submission_id\"] = answer_row[\"submission_id\"]\n",
    "        answer_values_list.append(answer_out_row)\n",
    "answer_values = pandas.DataFrame(answer_values_list)\n",
    "\n",
    "\n",
    "form_responses"
   ],
   "metadata": {
    "collapsed": false
   }
  },
  {
   "cell_type": "code",
   "execution_count": 6,
   "outputs": [
    {
     "data": {
      "text/plain": "            submission_id variable  \\\n0     5522778250513504316        1   \n1     5522249883124676563        1   \n2     5522237753245487747        1   \n3     5522221828112546939        1   \n4     5522212558117809714        1   \n...                   ...      ...   \n1759  5395885152476776123       28   \n1760  5395864084776838594       28   \n1761  5395862014816464548       28   \n1762  5395782628115741987       28   \n1763  5395781768111526966       28   \n\n                                                  value  \n0     {'name': 'heading', 'order': '1', 'text': 'EHS...  \n1     {'name': 'heading', 'order': '1', 'text': 'EHS...  \n2     {'name': 'heading', 'order': '1', 'text': 'EHS...  \n3     {'name': 'heading', 'order': '1', 'text': 'EHS...  \n4     {'name': 'heading', 'order': '1', 'text': 'EHS...  \n...                                                 ...  \n1759  {'name': 'attended', 'order': '8', 'text': 'At...  \n1760  {'name': 'attended', 'order': '8', 'text': 'At...  \n1761  {'name': 'attended', 'order': '8', 'text': 'At...  \n1762  {'name': 'attended', 'order': '8', 'text': 'At...  \n1763  {'name': 'attended', 'order': '8', 'text': 'At...  \n\n[1764 rows x 3 columns]",
      "text/html": "<div>\n<style scoped>\n    .dataframe tbody tr th:only-of-type {\n        vertical-align: middle;\n    }\n\n    .dataframe tbody tr th {\n        vertical-align: top;\n    }\n\n    .dataframe thead th {\n        text-align: right;\n    }\n</style>\n<table border=\"1\" class=\"dataframe\">\n  <thead>\n    <tr style=\"text-align: right;\">\n      <th></th>\n      <th>submission_id</th>\n      <th>variable</th>\n      <th>value</th>\n    </tr>\n  </thead>\n  <tbody>\n    <tr>\n      <th>0</th>\n      <td>5522778250513504316</td>\n      <td>1</td>\n      <td>{'name': 'heading', 'order': '1', 'text': 'EHS...</td>\n    </tr>\n    <tr>\n      <th>1</th>\n      <td>5522249883124676563</td>\n      <td>1</td>\n      <td>{'name': 'heading', 'order': '1', 'text': 'EHS...</td>\n    </tr>\n    <tr>\n      <th>2</th>\n      <td>5522237753245487747</td>\n      <td>1</td>\n      <td>{'name': 'heading', 'order': '1', 'text': 'EHS...</td>\n    </tr>\n    <tr>\n      <th>3</th>\n      <td>5522221828112546939</td>\n      <td>1</td>\n      <td>{'name': 'heading', 'order': '1', 'text': 'EHS...</td>\n    </tr>\n    <tr>\n      <th>4</th>\n      <td>5522212558117809714</td>\n      <td>1</td>\n      <td>{'name': 'heading', 'order': '1', 'text': 'EHS...</td>\n    </tr>\n    <tr>\n      <th>...</th>\n      <td>...</td>\n      <td>...</td>\n      <td>...</td>\n    </tr>\n    <tr>\n      <th>1759</th>\n      <td>5395885152476776123</td>\n      <td>28</td>\n      <td>{'name': 'attended', 'order': '8', 'text': 'At...</td>\n    </tr>\n    <tr>\n      <th>1760</th>\n      <td>5395864084776838594</td>\n      <td>28</td>\n      <td>{'name': 'attended', 'order': '8', 'text': 'At...</td>\n    </tr>\n    <tr>\n      <th>1761</th>\n      <td>5395862014816464548</td>\n      <td>28</td>\n      <td>{'name': 'attended', 'order': '8', 'text': 'At...</td>\n    </tr>\n    <tr>\n      <th>1762</th>\n      <td>5395782628115741987</td>\n      <td>28</td>\n      <td>{'name': 'attended', 'order': '8', 'text': 'At...</td>\n    </tr>\n    <tr>\n      <th>1763</th>\n      <td>5395781768111526966</td>\n      <td>28</td>\n      <td>{'name': 'attended', 'order': '8', 'text': 'At...</td>\n    </tr>\n  </tbody>\n</table>\n<p>1764 rows × 3 columns</p>\n</div>"
     },
     "execution_count": 6,
     "metadata": {},
     "output_type": "execute_result"
    }
   ],
   "source": [
    "answers"
   ],
   "metadata": {
    "collapsed": false
   }
  },
  {
   "cell_type": "code",
   "execution_count": 16,
   "outputs": [
    {
     "data": {
      "text/plain": "      prim_value      name variable        submission_id first last\n0    February 15  sessions        3  5522778250513504316   NaN  NaN\n1    February 15  sessions        3  5522249883124676563   NaN  NaN\n2    February 15  sessions        3  5522237753245487747   NaN  NaN\n3    February 15  sessions        3  5522221828112546939   NaN  NaN\n4    February 15  sessions        3  5522212558117809714   NaN  NaN\n..           ...       ...      ...                  ...   ...  ...\n687            0  attended       28  5521996788119440119   NaN  NaN\n688            0  attended       28  5521094788591328290   NaN  NaN\n689            0  attended       28  5518656508596956682   NaN  NaN\n690            0  attended       28  5518596438593157102   NaN  NaN\n691            0  attended       28  5518540708598048465   NaN  NaN\n\n[692 rows x 6 columns]",
      "text/html": "<div>\n<style scoped>\n    .dataframe tbody tr th:only-of-type {\n        vertical-align: middle;\n    }\n\n    .dataframe tbody tr th {\n        vertical-align: top;\n    }\n\n    .dataframe thead th {\n        text-align: right;\n    }\n</style>\n<table border=\"1\" class=\"dataframe\">\n  <thead>\n    <tr style=\"text-align: right;\">\n      <th></th>\n      <th>prim_value</th>\n      <th>name</th>\n      <th>variable</th>\n      <th>submission_id</th>\n      <th>first</th>\n      <th>last</th>\n    </tr>\n  </thead>\n  <tbody>\n    <tr>\n      <th>0</th>\n      <td>February 15</td>\n      <td>sessions</td>\n      <td>3</td>\n      <td>5522778250513504316</td>\n      <td>NaN</td>\n      <td>NaN</td>\n    </tr>\n    <tr>\n      <th>1</th>\n      <td>February 15</td>\n      <td>sessions</td>\n      <td>3</td>\n      <td>5522249883124676563</td>\n      <td>NaN</td>\n      <td>NaN</td>\n    </tr>\n    <tr>\n      <th>2</th>\n      <td>February 15</td>\n      <td>sessions</td>\n      <td>3</td>\n      <td>5522237753245487747</td>\n      <td>NaN</td>\n      <td>NaN</td>\n    </tr>\n    <tr>\n      <th>3</th>\n      <td>February 15</td>\n      <td>sessions</td>\n      <td>3</td>\n      <td>5522221828112546939</td>\n      <td>NaN</td>\n      <td>NaN</td>\n    </tr>\n    <tr>\n      <th>4</th>\n      <td>February 15</td>\n      <td>sessions</td>\n      <td>3</td>\n      <td>5522212558117809714</td>\n      <td>NaN</td>\n      <td>NaN</td>\n    </tr>\n    <tr>\n      <th>...</th>\n      <td>...</td>\n      <td>...</td>\n      <td>...</td>\n      <td>...</td>\n      <td>...</td>\n      <td>...</td>\n    </tr>\n    <tr>\n      <th>687</th>\n      <td>0</td>\n      <td>attended</td>\n      <td>28</td>\n      <td>5521996788119440119</td>\n      <td>NaN</td>\n      <td>NaN</td>\n    </tr>\n    <tr>\n      <th>688</th>\n      <td>0</td>\n      <td>attended</td>\n      <td>28</td>\n      <td>5521094788591328290</td>\n      <td>NaN</td>\n      <td>NaN</td>\n    </tr>\n    <tr>\n      <th>689</th>\n      <td>0</td>\n      <td>attended</td>\n      <td>28</td>\n      <td>5518656508596956682</td>\n      <td>NaN</td>\n      <td>NaN</td>\n    </tr>\n    <tr>\n      <th>690</th>\n      <td>0</td>\n      <td>attended</td>\n      <td>28</td>\n      <td>5518596438593157102</td>\n      <td>NaN</td>\n      <td>NaN</td>\n    </tr>\n    <tr>\n      <th>691</th>\n      <td>0</td>\n      <td>attended</td>\n      <td>28</td>\n      <td>5518540708598048465</td>\n      <td>NaN</td>\n      <td>NaN</td>\n    </tr>\n  </tbody>\n</table>\n<p>692 rows × 6 columns</p>\n</div>"
     },
     "execution_count": 16,
     "metadata": {},
     "output_type": "execute_result"
    }
   ],
   "source": [
    "answer_values"
   ],
   "metadata": {
    "collapsed": false
   }
  },
  {
   "cell_type": "code",
   "execution_count": 7,
   "outputs": [],
   "source": [],
   "metadata": {
    "collapsed": false
   }
  },
  {
   "cell_type": "code",
   "execution_count": 7,
   "outputs": [],
   "source": [],
   "metadata": {
    "collapsed": false
   }
  }
 ],
 "metadata": {
  "kernelspec": {
   "display_name": "Python 3",
   "language": "python",
   "name": "python3"
  },
  "language_info": {
   "codemirror_mode": {
    "name": "ipython",
    "version": 2
   },
   "file_extension": ".py",
   "mimetype": "text/x-python",
   "name": "python",
   "nbconvert_exporter": "python",
   "pygments_lexer": "ipython2",
   "version": "2.7.6"
  }
 },
 "nbformat": 4,
 "nbformat_minor": 0
}
